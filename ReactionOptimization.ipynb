{
 "cells": [
  {
   "cell_type": "code",
   "execution_count": 14,
   "metadata": {},
   "outputs": [],
   "source": [
    "from summit import Runner\n",
    "from summit.strategies import Random, SOBO, MultitoSingleObjective\n",
    "from summit.benchmarks import SnarBenchmark\n",
    "from summit.utils.dataset import DataSet\n",
    "import matplotlib.pyplot as plt\n",
    "import pathlib"
   ]
  },
  {
   "cell_type": "code",
   "execution_count": 2,
   "metadata": {},
   "outputs": [
    {
     "data": {
      "text/html": [
       "<table id='domain' width=100%><tr><td><b>Name</b></td><td><b>Type</b></td><td><b>Description</b></td><td><b>Values</b></td></tr><tr><td>tau</td><td>continuous, input</td><td>residence time in minutes</td><td>[0.5,2]</td></tr><tr><td>equiv_pldn</td><td>continuous, input</td><td>equivalents of pyrrolidine</td><td>[1.0,5]</td></tr><tr><td>conc_dfnb</td><td>continuous, input</td><td>concentration of 2,4 dinitrofluorobenenze at reactor inlet (after mixing) in M</td><td>[0.1,0.5]</td></tr><tr><td>temperature</td><td>continuous, input</td><td>Reactor temperature in degress celsius</td><td>[30,120]</td></tr><tr><td>sty</td><td>continuous, maximize objective</td><td>space time yield (kg/m^3/h)</td><td>[0,13000]</td></tr><tr><td>e_factor</td><td>continuous, minimize objective</td><td>E-factor</td><td>[0,500]</td></tr></table>"
      ],
      "text/plain": [
       "<summit.domain.Domain at 0x107cc0670>"
      ]
     },
     "execution_count": 2,
     "metadata": {},
     "output_type": "execute_result"
    }
   ],
   "source": [
    "exp = SnarBenchmark()\n",
    "exp.domain"
   ]
  },
  {
   "cell_type": "code",
   "execution_count": 8,
   "metadata": {},
   "outputs": [
    {
     "data": {
      "text/html": [
       "<div>\n",
       "<style scoped>\n",
       "    .dataframe tbody tr th:only-of-type {\n",
       "        vertical-align: middle;\n",
       "    }\n",
       "\n",
       "    .dataframe tbody tr th {\n",
       "        vertical-align: top;\n",
       "    }\n",
       "\n",
       "    .dataframe thead th {\n",
       "        text-align: right;\n",
       "    }\n",
       "</style>\n",
       "<table border=\"1\" class=\"dataframe\">\n",
       "  <thead>\n",
       "    <tr style=\"text-align: right;\">\n",
       "      <th></th>\n",
       "      <th>tau</th>\n",
       "      <th>equiv_pldn</th>\n",
       "      <th>conc_dfnb</th>\n",
       "      <th>temperature</th>\n",
       "      <th>sty</th>\n",
       "      <th>e_factor</th>\n",
       "      <th>computation_t</th>\n",
       "      <th>experiment_t</th>\n",
       "      <th>strategy</th>\n",
       "    </tr>\n",
       "  </thead>\n",
       "  <tbody>\n",
       "    <tr>\n",
       "      <th>0</th>\n",
       "      <td>1.5</td>\n",
       "      <td>0.5</td>\n",
       "      <td>0.1</td>\n",
       "      <td>30.0</td>\n",
       "      <td>169.0</td>\n",
       "      <td>190.25</td>\n",
       "      <td>0.0</td>\n",
       "      <td>0.001146</td>\n",
       "      <td>NaN</td>\n",
       "    </tr>\n",
       "  </tbody>\n",
       "</table>\n",
       "</div>"
      ],
      "text/plain": [
       "NAME  tau equiv_pldn conc_dfnb temperature    sty e_factor computation_t  \\\n",
       "TYPE DATA       DATA      DATA        DATA   DATA     DATA      METADATA   \n",
       "0     1.5        0.5       0.1        30.0  169.0   190.25           0.0   \n",
       "\n",
       "NAME experiment_t strategy  \n",
       "TYPE     METADATA METADATA  \n",
       "0        0.001146      NaN  "
      ]
     },
     "execution_count": 8,
     "metadata": {},
     "output_type": "execute_result"
    }
   ],
   "source": [
    "# Create some test conditions\n",
    "columns = [v.name for v in exp.domain.variables]\n",
    "values  =   {('tau', 'DATA'): 1.5,  # minutes\n",
    "             ('equiv_pldn', 'DATA'): 0.5,  \n",
    "             ('conc_dfnb', 'DATA'): 0.1, #molar\n",
    "             ('temperature', 'DATA'): 30.0, # degrees celsius\n",
    "            }\n",
    "conditions = DataSet([values], columns=columns)\n",
    "\n",
    "# Run the conditions\n",
    "exp.reset()\n",
    "results = exp.run_experiments(conditions)\n",
    "results.round(2)"
   ]
  },
  {
   "cell_type": "code",
   "execution_count": 11,
   "metadata": {},
   "outputs": [
    {
     "data": {
      "text/html": [
       "\n",
       "    <div>\n",
       "        <style>\n",
       "            /* Turns off some styling */\n",
       "            progress {\n",
       "                /* gets rid of default border in Firefox and Opera. */\n",
       "                border: none;\n",
       "                /* Needs to be in here for Safari polyfill so background images work as expected. */\n",
       "                background-size: auto;\n",
       "            }\n",
       "            .progress-bar-interrupted, .progress-bar-interrupted::-webkit-progress-bar {\n",
       "                background: #F44336;\n",
       "            }\n",
       "        </style>\n",
       "      <progress value='50' class='' max='50' style='width:300px; height:20px; vertical-align: middle;'></progress>\n",
       "      100.00% [50/50 00:00<00:00]\n",
       "    </div>\n",
       "    "
      ],
      "text/plain": [
       "<IPython.core.display.HTML object>"
      ]
     },
     "metadata": {},
     "output_type": "display_data"
    },
    {
     "name": "stderr",
     "output_type": "stream",
     "text": [
      "/Users/ravikadambi/Desktop/Repos/Capstone/capstone/lib/python3.8/site-packages/summit/experiment.py:233: UserWarning: No data for colormapping provided via 'c'. Parameters 'cmap' will be ignored\n",
      "  im = ax.scatter(\n"
     ]
    },
    {
     "data": {
      "image/png": "[encoded data removed]",
      "text/plain": [
       "<Figure size 640x480 with 1 Axes>"
      ]
     },
     "metadata": {},
     "output_type": "display_data"
    }
   ],
   "source": [
    "#Set up the experiment\n",
    "exp = SnarBenchmark()\n",
    "\n",
    "# Instantiate random sampling strategy\n",
    "strategy = Random(exp.domain)\n",
    "\n",
    "# Use the runner to run closed loop optimisation\n",
    "r = Runner(strategy=strategy, experiment=exp, max_iterations=50)\n",
    "r.run()\n",
    "\n",
    "# Plot the results\n",
    "fig, ax = exp.pareto_plot()\n",
    "_ = ax.set_xlabel('Space Time Yield ($kg \\; m^{-3} h^{-1}$)')\n",
    "_ = ax.set_ylabel('E-factor')"
   ]
  },
  {
   "cell_type": "code",
   "execution_count": 12,
   "metadata": {},
   "outputs": [
    {
     "data": {
      "text/html": [
       "\n",
       "    <div>\n",
       "        <style>\n",
       "            /* Turns off some styling */\n",
       "            progress {\n",
       "                /* gets rid of default border in Firefox and Opera. */\n",
       "                border: none;\n",
       "                /* Needs to be in here for Safari polyfill so background images work as expected. */\n",
       "                background-size: auto;\n",
       "            }\n",
       "            .progress-bar-interrupted, .progress-bar-interrupted::-webkit-progress-bar {\n",
       "                background: #F44336;\n",
       "            }\n",
       "        </style>\n",
       "      <progress value='50' class='' max='50' style='width:300px; height:20px; vertical-align: middle;'></progress>\n",
       "      100.00% [50/50 00:23<00:00]\n",
       "    </div>\n",
       "    "
      ],
      "text/plain": [
       "<IPython.core.display.HTML object>"
      ]
     },
     "metadata": {},
     "output_type": "display_data"
    },
    {
     "data": {
      "image/png": "[encoded data removed]",
      "text/plain": [
       "<Figure size 640x480 with 2 Axes>"
      ]
     },
     "metadata": {},
     "output_type": "display_data"
    }
   ],
   "source": [
    "exp = SnarBenchmark()\n",
    "\n",
    "# Since the Snar benchmark has two objectives and SOBO is single objective, \n",
    "# we need a multi-to-single objective transform\n",
    "transform = MultitoSingleObjective(\n",
    "    exp.domain, expression=\"-sty/1e4+e_factor/100\", maximize=False\n",
    ")\n",
    "\n",
    "# Set up the strategy, passing in the optimisation domain and transform\n",
    "strategy = SOBO(exp.domain, transform=transform)\n",
    "\n",
    "# Use the runner to run closed loop optimisation\n",
    "r = Runner(\n",
    "    strategy=strategy, experiment=exp,max_iterations=50\n",
    ")\n",
    "r.run()\n",
    "\n",
    "# Plot the results\n",
    "fig, ax = exp.pareto_plot(colorbar=True)\n",
    "_ = ax.set_xlabel('Space Time Yield ($kg \\; m^{-3} h^{-1}$)')\n",
    "_ = ax.set_ylabel('E-factor')"
   ]
  },
  {
   "cell_type": "code",
   "execution_count": 13,
   "metadata": {},
   "outputs": [
    {
     "data": {
      "text/html": [
       "<div>\n",
       "<style scoped>\n",
       "    .dataframe tbody tr th:only-of-type {\n",
       "        vertical-align: middle;\n",
       "    }\n",
       "\n",
       "    .dataframe tbody tr th {\n",
       "        vertical-align: top;\n",
       "    }\n",
       "\n",
       "    .dataframe thead th {\n",
       "        text-align: right;\n",
       "    }\n",
       "</style>\n",
       "<table border=\"1\" class=\"dataframe\">\n",
       "  <thead>\n",
       "    <tr style=\"text-align: right;\">\n",
       "      <th></th>\n",
       "      <th>tau</th>\n",
       "      <th>equiv_pldn</th>\n",
       "      <th>conc_dfnb</th>\n",
       "      <th>temperature</th>\n",
       "      <th>sty</th>\n",
       "      <th>e_factor</th>\n",
       "      <th>computation_t</th>\n",
       "      <th>experiment_t</th>\n",
       "      <th>strategy</th>\n",
       "    </tr>\n",
       "  </thead>\n",
       "  <tbody>\n",
       "    <tr>\n",
       "      <th>29</th>\n",
       "      <td>0.536308</td>\n",
       "      <td>1.699389</td>\n",
       "      <td>0.5</td>\n",
       "      <td>66.049682</td>\n",
       "      <td>10625.565607</td>\n",
       "      <td>8.674045</td>\n",
       "      <td>0.877651</td>\n",
       "      <td>0.001597</td>\n",
       "      <td>Single-objective BayOpt</td>\n",
       "    </tr>\n",
       "    <tr>\n",
       "      <th>31</th>\n",
       "      <td>0.5</td>\n",
       "      <td>1.72644</td>\n",
       "      <td>0.5</td>\n",
       "      <td>65.973316</td>\n",
       "      <td>11383.358391</td>\n",
       "      <td>8.696337</td>\n",
       "      <td>0.629528</td>\n",
       "      <td>0.001585</td>\n",
       "      <td>Single-objective BayOpt</td>\n",
       "    </tr>\n",
       "    <tr>\n",
       "      <th>35</th>\n",
       "      <td>0.5</td>\n",
       "      <td>1.779176</td>\n",
       "      <td>0.5</td>\n",
       "      <td>65.786202</td>\n",
       "      <td>11401.611671</td>\n",
       "      <td>8.699996</td>\n",
       "      <td>0.552508</td>\n",
       "      <td>0.001572</td>\n",
       "      <td>Single-objective BayOpt</td>\n",
       "    </tr>\n",
       "    <tr>\n",
       "      <th>37</th>\n",
       "      <td>0.5</td>\n",
       "      <td>1.942528</td>\n",
       "      <td>0.5</td>\n",
       "      <td>65.514054</td>\n",
       "      <td>11422.460323</td>\n",
       "      <td>8.741801</td>\n",
       "      <td>0.535839</td>\n",
       "      <td>0.001551</td>\n",
       "      <td>Single-objective BayOpt</td>\n",
       "    </tr>\n",
       "    <tr>\n",
       "      <th>41</th>\n",
       "      <td>0.5</td>\n",
       "      <td>2.073253</td>\n",
       "      <td>0.5</td>\n",
       "      <td>63.47979</td>\n",
       "      <td>11427.619012</td>\n",
       "      <td>8.785868</td>\n",
       "      <td>0.575468</td>\n",
       "      <td>0.004139</td>\n",
       "      <td>Single-objective BayOpt</td>\n",
       "    </tr>\n",
       "  </tbody>\n",
       "</table>\n",
       "</div>"
      ],
      "text/plain": [
       "NAME       tau equiv_pldn conc_dfnb temperature           sty  e_factor  \\\n",
       "TYPE      DATA       DATA      DATA        DATA          DATA      DATA   \n",
       "29    0.536308   1.699389       0.5   66.049682  10625.565607  8.674045   \n",
       "31         0.5    1.72644       0.5   65.973316  11383.358391  8.696337   \n",
       "35         0.5   1.779176       0.5   65.786202  11401.611671  8.699996   \n",
       "37         0.5   1.942528       0.5   65.514054  11422.460323  8.741801   \n",
       "41         0.5   2.073253       0.5    63.47979  11427.619012  8.785868   \n",
       "\n",
       "NAME computation_t experiment_t                 strategy  \n",
       "TYPE      METADATA     METADATA                 METADATA  \n",
       "29        0.877651     0.001597  Single-objective BayOpt  \n",
       "31        0.629528     0.001585  Single-objective BayOpt  \n",
       "35        0.552508     0.001572  Single-objective BayOpt  \n",
       "37        0.535839     0.001551  Single-objective BayOpt  \n",
       "41        0.575468     0.004139  Single-objective BayOpt  "
      ]
     },
     "execution_count": 13,
     "metadata": {},
     "output_type": "execute_result"
    }
   ],
   "source": [
    "exp.pareto_data.round(2)"
   ]
  },
  {
   "attachments": {},
   "cell_type": "markdown",
   "metadata": {},
   "source": [
    "## Using real data\n"
   ]
  },
  {
   "cell_type": "code",
   "execution_count": 17,
   "metadata": {},
   "outputs": [
    {
     "data": {
      "text/html": [
       "<div>\n",
       "<style scoped>\n",
       "    .dataframe tbody tr th:only-of-type {\n",
       "        vertical-align: middle;\n",
       "    }\n",
       "\n",
       "    .dataframe tbody tr th {\n",
       "        vertical-align: top;\n",
       "    }\n",
       "\n",
       "    .dataframe thead th {\n",
       "        text-align: right;\n",
       "    }\n",
       "</style>\n",
       "<table border=\"1\" class=\"dataframe\">\n",
       "  <thead>\n",
       "    <tr style=\"text-align: right;\">\n",
       "      <th></th>\n",
       "      <th>tau</th>\n",
       "      <th>equiv_pldn</th>\n",
       "      <th>conc_dfnb</th>\n",
       "      <th>temperature</th>\n",
       "      <th>strategy</th>\n",
       "    </tr>\n",
       "  </thead>\n",
       "  <tbody>\n",
       "    <tr>\n",
       "      <th>0</th>\n",
       "      <td>1.421731</td>\n",
       "      <td>3.344253</td>\n",
       "      <td>0.354236</td>\n",
       "      <td>108.940283</td>\n",
       "      <td>Single-objective BayOpt</td>\n",
       "    </tr>\n",
       "    <tr>\n",
       "      <th>1</th>\n",
       "      <td>1.377359</td>\n",
       "      <td>2.585450</td>\n",
       "      <td>0.435660</td>\n",
       "      <td>96.015871</td>\n",
       "      <td>Single-objective BayOpt</td>\n",
       "    </tr>\n",
       "  </tbody>\n",
       "</table>\n",
       "</div>"
      ],
      "text/plain": [
       "NAME       tau equiv_pldn conc_dfnb temperature                 strategy\n",
       "TYPE      DATA       DATA      DATA        DATA                 METADATA\n",
       "0     1.421731   3.344253  0.354236  108.940283  Single-objective BayOpt\n",
       "1     1.377359   2.585450  0.435660   96.015871  Single-objective BayOpt"
      ]
     },
     "execution_count": 17,
     "metadata": {},
     "output_type": "execute_result"
    }
   ],
   "source": [
    "FOLDER = pathlib.Path(\"./data/\")\n",
    "# We are just going to get the domain from the SnarBenchmark\n",
    "exp = SnarBenchmark()\n",
    "\n",
    "transform = MultitoSingleObjective(\n",
    "    exp.domain, expression=\"-sty/1e4+e_factor/100\", maximize=False\n",
    ")\n",
    "\n",
    "# Instantiate SOBO\n",
    "strategy = SOBO(exp.domain, transform=transform)\n",
    "\n",
    "# To get the first experiments\n",
    "next_experiments = strategy.suggest_experiments(2)\n",
    "next_experiments"
   ]
  },
  {
   "cell_type": "code",
   "execution_count": 19,
   "metadata": {},
   "outputs": [],
   "source": [
    "# Save SOBO hyperparameters and internal state\n",
    "strategy.save(FOLDER / 'snar_sobo_external.json')\n",
    "\n",
    "# Save experiments to CSV\n",
    "next_experiments.to_csv(FOLDER / 'snar_experiments_external_0.csv')"
   ]
  },
  {
   "cell_type": "code",
   "execution_count": 20,
   "metadata": {},
   "outputs": [],
   "source": [
    "# \"Run\" the experiments and save to CSV.\n",
    "results = exp.run_experiments(next_experiments)\n",
    "results.to_csv(FOLDER / 'snar_experiments_external_1.csv')"
   ]
  },
  {
   "cell_type": "code",
   "execution_count": 21,
   "metadata": {},
   "outputs": [
    {
     "data": {
      "text/html": [
       "<div>\n",
       "<style scoped>\n",
       "    .dataframe tbody tr th:only-of-type {\n",
       "        vertical-align: middle;\n",
       "    }\n",
       "\n",
       "    .dataframe tbody tr th {\n",
       "        vertical-align: top;\n",
       "    }\n",
       "\n",
       "    .dataframe thead th {\n",
       "        text-align: right;\n",
       "    }\n",
       "</style>\n",
       "<table border=\"1\" class=\"dataframe\">\n",
       "  <thead>\n",
       "    <tr style=\"text-align: right;\">\n",
       "      <th></th>\n",
       "      <th>tau</th>\n",
       "      <th>equiv_pldn</th>\n",
       "      <th>conc_dfnb</th>\n",
       "      <th>temperature</th>\n",
       "      <th>sty</th>\n",
       "      <th>e_factor</th>\n",
       "      <th>computation_t</th>\n",
       "      <th>experiment_t</th>\n",
       "      <th>strategy</th>\n",
       "    </tr>\n",
       "  </thead>\n",
       "  <tbody>\n",
       "    <tr>\n",
       "      <th>0</th>\n",
       "      <td>1.421731</td>\n",
       "      <td>3.344253</td>\n",
       "      <td>0.354236</td>\n",
       "      <td>108.940283</td>\n",
       "      <td>1147.434035</td>\n",
       "      <td>32.766178</td>\n",
       "      <td>0.0</td>\n",
       "      <td>0.003693</td>\n",
       "      <td>Single-objective BayOpt</td>\n",
       "    </tr>\n",
       "    <tr>\n",
       "      <th>1</th>\n",
       "      <td>1.377359</td>\n",
       "      <td>2.58545</td>\n",
       "      <td>0.43566</td>\n",
       "      <td>96.015871</td>\n",
       "      <td>2282.631831</td>\n",
       "      <td>16.67404</td>\n",
       "      <td>0.0</td>\n",
       "      <td>0.00299</td>\n",
       "      <td>Single-objective BayOpt</td>\n",
       "    </tr>\n",
       "  </tbody>\n",
       "</table>\n",
       "</div>"
      ],
      "text/plain": [
       "NAME       tau equiv_pldn conc_dfnb temperature          sty   e_factor  \\\n",
       "TYPE      DATA       DATA      DATA        DATA         DATA       DATA   \n",
       "0     1.421731   3.344253  0.354236  108.940283  1147.434035  32.766178   \n",
       "1     1.377359    2.58545   0.43566   96.015871  2282.631831   16.67404   \n",
       "\n",
       "NAME computation_t experiment_t                 strategy  \n",
       "TYPE      METADATA     METADATA                 METADATA  \n",
       "0              0.0     0.003693  Single-objective BayOpt  \n",
       "1              0.0      0.00299  Single-objective BayOpt  "
      ]
     },
     "execution_count": 21,
     "metadata": {},
     "output_type": "execute_result"
    }
   ],
   "source": [
    "# Load in previous SOBO hyperparameters and internal state\n",
    "strategy = SOBO.load(FOLDER / 'snar_sobo_external.json')\n",
    "\n",
    "# Load in experimental results\n",
    "prev_res = DataSet.read_csv(FOLDER / 'snar_experiments_external_1.csv')\n",
    "prev_res"
   ]
  },
  {
   "cell_type": "code",
   "execution_count": 23,
   "metadata": {},
   "outputs": [
    {
     "data": {
      "text/html": [
       "<div>\n",
       "<style scoped>\n",
       "    .dataframe tbody tr th:only-of-type {\n",
       "        vertical-align: middle;\n",
       "    }\n",
       "\n",
       "    .dataframe tbody tr th {\n",
       "        vertical-align: top;\n",
       "    }\n",
       "\n",
       "    .dataframe thead th {\n",
       "        text-align: right;\n",
       "    }\n",
       "</style>\n",
       "<table border=\"1\" class=\"dataframe\">\n",
       "  <thead>\n",
       "    <tr style=\"text-align: right;\">\n",
       "      <th></th>\n",
       "      <th>tau</th>\n",
       "      <th>equiv_pldn</th>\n",
       "      <th>conc_dfnb</th>\n",
       "      <th>temperature</th>\n",
       "      <th>strategy</th>\n",
       "    </tr>\n",
       "  </thead>\n",
       "  <tbody>\n",
       "    <tr>\n",
       "      <th>0</th>\n",
       "      <td>1.115209</td>\n",
       "      <td>2.676232</td>\n",
       "      <td>0.416714</td>\n",
       "      <td>95.57601</td>\n",
       "      <td>Single-objective BayOpt</td>\n",
       "    </tr>\n",
       "  </tbody>\n",
       "</table>\n",
       "</div>"
      ],
      "text/plain": [
       "NAME       tau equiv_pldn conc_dfnb temperature                 strategy\n",
       "TYPE      DATA       DATA      DATA        DATA                 METADATA\n",
       "0     1.115209   2.676232  0.416714    95.57601  Single-objective BayOpt"
      ]
     },
     "execution_count": 23,
     "metadata": {},
     "output_type": "execute_result"
    }
   ],
   "source": [
    "# Get experimental suggestions from SOBO\n",
    "second_experiments = strategy.suggest_experiments(1, prev_res=prev_res)\n",
    "\n",
    "# Save SOBO state\n",
    "strategy.save(FOLDER / 'snar_sobo_external_2.json')\n",
    "\n",
    "# Save experiments to CSV\n",
    "second_experiments.to_csv(FOLDER / 'snar_experiments_external_2.csv')\n",
    "second_experiments"
   ]
  },
  {
   "cell_type": "code",
   "execution_count": null,
   "metadata": {},
   "outputs": [],
   "source": []
  }
 ],
 "metadata": {
  "kernelspec": {
   "display_name": "capstone",
   "language": "python",
   "name": "python3"
  },
  "language_info": {
   "codemirror_mode": {
    "name": "ipython",
    "version": 3
   },
   "file_extension": ".py",
   "mimetype": "text/x-python",
   "name": "python",
   "nbconvert_exporter": "python",
   "pygments_lexer": "ipython3",
   "version": "3.8.10"
  },
  "orig_nbformat": 4,
  "vscode": {
   "interpreter": {
    "hash": "9cbd6e04026c7f3e8b41c8c79123128cec6876346a735b83477ec5f9beae85c4"
   }
  }
 },
 "nbformat": 4,
 "nbformat_minor": 2
}
